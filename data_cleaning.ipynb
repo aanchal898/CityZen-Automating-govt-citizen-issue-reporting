{
  "nbformat": 4,
  "nbformat_minor": 0,
  "metadata": {
    "colab": {
      "provenance": [],
      "gpuType": "T4"
    },
    "kernelspec": {
      "name": "python3",
      "display_name": "Python 3"
    },
    "language_info": {
      "name": "python"
    }
  },
  "cells": [
    {
      "cell_type": "code",
      "source": [
        "from google.colab import drive\n",
        "drive.mount('/content/drive')"
      ],
      "metadata": {
        "id": "nZVcveGJqOkn",
        "outputId": "e57607d9-5134-420f-a327-999210ef0bcb",
        "colab": {
          "base_uri": "https://localhost:8080/"
        }
      },
      "execution_count": 1,
      "outputs": [
        {
          "output_type": "stream",
          "name": "stdout",
          "text": [
            "Mounted at /content/drive\n"
          ]
        }
      ]
    },
    {
      "cell_type": "code",
      "source": [
        "cd drive/MyDrive/Capstone_Email_Dataset"
      ],
      "metadata": {
        "id": "KIqqIh0AqPZQ",
        "colab": {
          "base_uri": "https://localhost:8080/"
        },
        "outputId": "0ef9a50a-a2be-4f3b-fe96-182e998ee8a6"
      },
      "execution_count": 2,
      "outputs": [
        {
          "output_type": "stream",
          "name": "stdout",
          "text": [
            "/content/drive/MyDrive/Capstone_Email_Dataset\n"
          ]
        }
      ]
    },
    {
      "cell_type": "code",
      "source": [
        "import os\n",
        "# Get the current working directory\n",
        "cwd = os.getcwd()\n",
        "# Get the list of all subdirectories in the current working directory\n",
        "subdirectories = [f for f in os.listdir(cwd) if os.path.isdir(f)]"
      ],
      "metadata": {
        "id": "n2OzIo4g7m4s"
      },
      "execution_count": 3,
      "outputs": []
    },
    {
      "cell_type": "markdown",
      "source": [
        "# Data Pre-Processing"
      ],
      "metadata": {
        "id": "tr6VdsTm61o1"
      }
    },
    {
      "cell_type": "code",
      "source": [
        "!pip install git+https://github.com/vTheWise/neattext.git"
      ],
      "metadata": {
        "colab": {
          "base_uri": "https://localhost:8080/"
        },
        "id": "pCqPBkIFobgu",
        "outputId": "9110cb2e-1d2e-461c-e749-389370195c1a"
      },
      "execution_count": 4,
      "outputs": [
        {
          "output_type": "stream",
          "name": "stdout",
          "text": [
            "Collecting git+https://github.com/vTheWise/neattext.git\n",
            "  Cloning https://github.com/vTheWise/neattext.git to /tmp/pip-req-build-7mzq7fke\n",
            "  Running command git clone --filter=blob:none --quiet https://github.com/vTheWise/neattext.git /tmp/pip-req-build-7mzq7fke\n",
            "  Resolved https://github.com/vTheWise/neattext.git to commit f13c91ab7f6fea505bdc74d335bf8d2a14008728\n",
            "  Installing build dependencies ... \u001b[?25l\u001b[?25hdone\n",
            "  Getting requirements to build wheel ... \u001b[?25l\u001b[?25hdone\n",
            "  Preparing metadata (pyproject.toml) ... \u001b[?25l\u001b[?25hdone\n",
            "Building wheels for collected packages: neattext\n",
            "  Building wheel for neattext (pyproject.toml) ... \u001b[?25l\u001b[?25hdone\n",
            "  Created wheel for neattext: filename=neattext-0.1.4-py3-none-any.whl size=114864 sha256=d8cb7d1f1e79c7c76b40afa5d3e7de8f8a83412a6d11dbb0bc9b683e60e2f760\n",
            "  Stored in directory: /tmp/pip-ephem-wheel-cache-lecu1p25/wheels/c0/6d/08/74495672891de18d9e5c8e1db78dfdd7451929d5dfb9fc4de5\n",
            "Successfully built neattext\n",
            "Installing collected packages: neattext\n",
            "Successfully installed neattext-0.1.4\n"
          ]
        }
      ]
    },
    {
      "cell_type": "code",
      "source": [
        "# !pip install neattext"
      ],
      "metadata": {
        "colab": {
          "base_uri": "https://localhost:8080/"
        },
        "id": "OMurtwCK7M0R",
        "outputId": "66a00aa1-5ec1-468b-d32d-3915aab00047"
      },
      "execution_count": 4,
      "outputs": [
        {
          "output_type": "stream",
          "name": "stdout",
          "text": [
            "Collecting neattext\n",
            "  Downloading neattext-0.1.3-py3-none-any.whl (114 kB)\n",
            "\u001b[2K     \u001b[90m━━━━━━━━━━━━━━━━━━━━━━━━━━━━━━━━━━━━━━━━\u001b[0m \u001b[32m114.7/114.7 kB\u001b[0m \u001b[31m2.6 MB/s\u001b[0m eta \u001b[36m0:00:00\u001b[0m\n",
            "\u001b[?25hInstalling collected packages: neattext\n",
            "Successfully installed neattext-0.1.3\n"
          ]
        }
      ]
    },
    {
      "cell_type": "code",
      "source": [
        "!pip install striprtf"
      ],
      "metadata": {
        "colab": {
          "base_uri": "https://localhost:8080/"
        },
        "id": "I1f4mebJIgCF",
        "outputId": "462edff0-1335-422f-bc7c-119a4bc3737c"
      },
      "execution_count": 7,
      "outputs": [
        {
          "output_type": "stream",
          "name": "stdout",
          "text": [
            "Collecting striprtf\n",
            "  Downloading striprtf-0.0.26-py3-none-any.whl (6.9 kB)\n",
            "Installing collected packages: striprtf\n",
            "Successfully installed striprtf-0.0.26\n"
          ]
        }
      ]
    },
    {
      "cell_type": "code",
      "source": [
        "import neattext as nt\n",
        "from neattext.functions import clean_text\n",
        "\n",
        "tf = []\n",
        "\n",
        "for sub in subdirectories:\n",
        "  files = os.listdir(sub)\n",
        "  if \"benign\" in sub:\n",
        "    label = 0\n",
        "  else:\n",
        "    label = 1\n",
        "  for file in files:\n",
        "      name, ext = os.path.splitext(file)\n",
        "      if ext == \".txt\":\n",
        "        f = open(os.path.join(sub, file), \"rb\")\n",
        "        content = f.read()\n",
        "        ct = clean_text(content.decode(), puncts=True, urls=True, emails=True, numbers=True, phone_num=True, multiple_whitespaces=False)\n",
        "        tf.append([label, nt.TextFrame(text=ct)])\n",
        "        f.close()"
      ],
      "metadata": {
        "id": "zuV5xsCy7g8V"
      },
      "execution_count": 5,
      "outputs": []
    },
    {
      "cell_type": "code",
      "source": [
        "tf_lst_of_dict = []\n",
        "\n",
        "for t in tf:\n",
        "  dict_t = t[1].describe()\n",
        "  if dict_t:\n",
        "    dict_t['score_readability'] = round(t[1].readability()['automated readability'], 2)\n",
        "    dict_t['label'] = t[0]\n",
        "    tf_lst_of_dict.append(dict_t)"
      ],
      "metadata": {
        "id": "eWf6s6jgdOdn"
      },
      "execution_count": 12,
      "outputs": []
    },
    {
      "cell_type": "code",
      "source": [
        "tf_lst_of_dict[561]"
      ],
      "metadata": {
        "colab": {
          "base_uri": "https://localhost:8080/"
        },
        "id": "MSsRVOBpLtsi",
        "outputId": "af9ed1d7-7580-4806-8d89-e19175318c4e"
      },
      "execution_count": 13,
      "outputs": [
        {
          "output_type": "execute_result",
          "data": {
            "text/plain": [
              "{'Length': 287,\n",
              " 'vowels': 90,\n",
              " 'consonants': 160,\n",
              " 'stopwords': 0,\n",
              " 'punctuations': 1,\n",
              " 'special_char': 1,\n",
              " 'tokens(whitespace)': 37,\n",
              " 'tokens(words)': 37,\n",
              " 'score_readability': 33.6,\n",
              " 'label': 1}"
            ]
          },
          "metadata": {},
          "execution_count": 13
        }
      ]
    },
    {
      "cell_type": "code",
      "source": [
        "import pandas as pd\n",
        "\n",
        "df = pd.DataFrame.from_dict(tf_lst_of_dict)"
      ],
      "metadata": {
        "id": "AXsGXxCIfIs5"
      },
      "execution_count": 14,
      "outputs": []
    },
    {
      "cell_type": "code",
      "source": [
        "df.head()"
      ],
      "metadata": {
        "colab": {
          "base_uri": "https://localhost:8080/",
          "height": 226
        },
        "id": "svXoTcxtus9F",
        "outputId": "1512b4a5-9440-408a-d40a-16e4862f4a5b"
      },
      "execution_count": 15,
      "outputs": [
        {
          "output_type": "execute_result",
          "data": {
            "text/plain": [
              "   Length  vowels  consonants  stopwords  punctuations  special_char  \\\n",
              "0     511     167         278          0             1             1   \n",
              "1     724     239         389          0             0             0   \n",
              "2    1414     465         778          0             4             4   \n",
              "3    1514     505         822          0             3             3   \n",
              "4    1418     487         758          0             3             3   \n",
              "\n",
              "   tokens(whitespace)  tokens(words)  score_readability  label  \n",
              "0                  66             66              48.04      0  \n",
              "1                  95             95              62.23      0  \n",
              "2                 168            168             102.21      0  \n",
              "3                 185            185             109.62      0  \n",
              "4                 171            171             103.13      0  "
            ],
            "text/html": [
              "\n",
              "  <div id=\"df-1239a3a4-b0d3-4774-ab4b-05878f191fa8\" class=\"colab-df-container\">\n",
              "    <div>\n",
              "<style scoped>\n",
              "    .dataframe tbody tr th:only-of-type {\n",
              "        vertical-align: middle;\n",
              "    }\n",
              "\n",
              "    .dataframe tbody tr th {\n",
              "        vertical-align: top;\n",
              "    }\n",
              "\n",
              "    .dataframe thead th {\n",
              "        text-align: right;\n",
              "    }\n",
              "</style>\n",
              "<table border=\"1\" class=\"dataframe\">\n",
              "  <thead>\n",
              "    <tr style=\"text-align: right;\">\n",
              "      <th></th>\n",
              "      <th>Length</th>\n",
              "      <th>vowels</th>\n",
              "      <th>consonants</th>\n",
              "      <th>stopwords</th>\n",
              "      <th>punctuations</th>\n",
              "      <th>special_char</th>\n",
              "      <th>tokens(whitespace)</th>\n",
              "      <th>tokens(words)</th>\n",
              "      <th>score_readability</th>\n",
              "      <th>label</th>\n",
              "    </tr>\n",
              "  </thead>\n",
              "  <tbody>\n",
              "    <tr>\n",
              "      <th>0</th>\n",
              "      <td>511</td>\n",
              "      <td>167</td>\n",
              "      <td>278</td>\n",
              "      <td>0</td>\n",
              "      <td>1</td>\n",
              "      <td>1</td>\n",
              "      <td>66</td>\n",
              "      <td>66</td>\n",
              "      <td>48.04</td>\n",
              "      <td>0</td>\n",
              "    </tr>\n",
              "    <tr>\n",
              "      <th>1</th>\n",
              "      <td>724</td>\n",
              "      <td>239</td>\n",
              "      <td>389</td>\n",
              "      <td>0</td>\n",
              "      <td>0</td>\n",
              "      <td>0</td>\n",
              "      <td>95</td>\n",
              "      <td>95</td>\n",
              "      <td>62.23</td>\n",
              "      <td>0</td>\n",
              "    </tr>\n",
              "    <tr>\n",
              "      <th>2</th>\n",
              "      <td>1414</td>\n",
              "      <td>465</td>\n",
              "      <td>778</td>\n",
              "      <td>0</td>\n",
              "      <td>4</td>\n",
              "      <td>4</td>\n",
              "      <td>168</td>\n",
              "      <td>168</td>\n",
              "      <td>102.21</td>\n",
              "      <td>0</td>\n",
              "    </tr>\n",
              "    <tr>\n",
              "      <th>3</th>\n",
              "      <td>1514</td>\n",
              "      <td>505</td>\n",
              "      <td>822</td>\n",
              "      <td>0</td>\n",
              "      <td>3</td>\n",
              "      <td>3</td>\n",
              "      <td>185</td>\n",
              "      <td>185</td>\n",
              "      <td>109.62</td>\n",
              "      <td>0</td>\n",
              "    </tr>\n",
              "    <tr>\n",
              "      <th>4</th>\n",
              "      <td>1418</td>\n",
              "      <td>487</td>\n",
              "      <td>758</td>\n",
              "      <td>0</td>\n",
              "      <td>3</td>\n",
              "      <td>3</td>\n",
              "      <td>171</td>\n",
              "      <td>171</td>\n",
              "      <td>103.13</td>\n",
              "      <td>0</td>\n",
              "    </tr>\n",
              "  </tbody>\n",
              "</table>\n",
              "</div>\n",
              "    <div class=\"colab-df-buttons\">\n",
              "\n",
              "  <div class=\"colab-df-container\">\n",
              "    <button class=\"colab-df-convert\" onclick=\"convertToInteractive('df-1239a3a4-b0d3-4774-ab4b-05878f191fa8')\"\n",
              "            title=\"Convert this dataframe to an interactive table.\"\n",
              "            style=\"display:none;\">\n",
              "\n",
              "  <svg xmlns=\"http://www.w3.org/2000/svg\" height=\"24px\" viewBox=\"0 -960 960 960\">\n",
              "    <path d=\"M120-120v-720h720v720H120Zm60-500h600v-160H180v160Zm220 220h160v-160H400v160Zm0 220h160v-160H400v160ZM180-400h160v-160H180v160Zm440 0h160v-160H620v160ZM180-180h160v-160H180v160Zm440 0h160v-160H620v160Z\"/>\n",
              "  </svg>\n",
              "    </button>\n",
              "\n",
              "  <style>\n",
              "    .colab-df-container {\n",
              "      display:flex;\n",
              "      gap: 12px;\n",
              "    }\n",
              "\n",
              "    .colab-df-convert {\n",
              "      background-color: #E8F0FE;\n",
              "      border: none;\n",
              "      border-radius: 50%;\n",
              "      cursor: pointer;\n",
              "      display: none;\n",
              "      fill: #1967D2;\n",
              "      height: 32px;\n",
              "      padding: 0 0 0 0;\n",
              "      width: 32px;\n",
              "    }\n",
              "\n",
              "    .colab-df-convert:hover {\n",
              "      background-color: #E2EBFA;\n",
              "      box-shadow: 0px 1px 2px rgba(60, 64, 67, 0.3), 0px 1px 3px 1px rgba(60, 64, 67, 0.15);\n",
              "      fill: #174EA6;\n",
              "    }\n",
              "\n",
              "    .colab-df-buttons div {\n",
              "      margin-bottom: 4px;\n",
              "    }\n",
              "\n",
              "    [theme=dark] .colab-df-convert {\n",
              "      background-color: #3B4455;\n",
              "      fill: #D2E3FC;\n",
              "    }\n",
              "\n",
              "    [theme=dark] .colab-df-convert:hover {\n",
              "      background-color: #434B5C;\n",
              "      box-shadow: 0px 1px 3px 1px rgba(0, 0, 0, 0.15);\n",
              "      filter: drop-shadow(0px 1px 2px rgba(0, 0, 0, 0.3));\n",
              "      fill: #FFFFFF;\n",
              "    }\n",
              "  </style>\n",
              "\n",
              "    <script>\n",
              "      const buttonEl =\n",
              "        document.querySelector('#df-1239a3a4-b0d3-4774-ab4b-05878f191fa8 button.colab-df-convert');\n",
              "      buttonEl.style.display =\n",
              "        google.colab.kernel.accessAllowed ? 'block' : 'none';\n",
              "\n",
              "      async function convertToInteractive(key) {\n",
              "        const element = document.querySelector('#df-1239a3a4-b0d3-4774-ab4b-05878f191fa8');\n",
              "        const dataTable =\n",
              "          await google.colab.kernel.invokeFunction('convertToInteractive',\n",
              "                                                    [key], {});\n",
              "        if (!dataTable) return;\n",
              "\n",
              "        const docLinkHtml = 'Like what you see? Visit the ' +\n",
              "          '<a target=\"_blank\" href=https://colab.research.google.com/notebooks/data_table.ipynb>data table notebook</a>'\n",
              "          + ' to learn more about interactive tables.';\n",
              "        element.innerHTML = '';\n",
              "        dataTable['output_type'] = 'display_data';\n",
              "        await google.colab.output.renderOutput(dataTable, element);\n",
              "        const docLink = document.createElement('div');\n",
              "        docLink.innerHTML = docLinkHtml;\n",
              "        element.appendChild(docLink);\n",
              "      }\n",
              "    </script>\n",
              "  </div>\n",
              "\n",
              "\n",
              "<div id=\"df-c72459dd-f0b1-4a11-8b0b-583d680208ad\">\n",
              "  <button class=\"colab-df-quickchart\" onclick=\"quickchart('df-c72459dd-f0b1-4a11-8b0b-583d680208ad')\"\n",
              "            title=\"Suggest charts.\"\n",
              "            style=\"display:none;\">\n",
              "\n",
              "<svg xmlns=\"http://www.w3.org/2000/svg\" height=\"24px\"viewBox=\"0 0 24 24\"\n",
              "     width=\"24px\">\n",
              "    <g>\n",
              "        <path d=\"M19 3H5c-1.1 0-2 .9-2 2v14c0 1.1.9 2 2 2h14c1.1 0 2-.9 2-2V5c0-1.1-.9-2-2-2zM9 17H7v-7h2v7zm4 0h-2V7h2v10zm4 0h-2v-4h2v4z\"/>\n",
              "    </g>\n",
              "</svg>\n",
              "  </button>\n",
              "\n",
              "<style>\n",
              "  .colab-df-quickchart {\n",
              "      --bg-color: #E8F0FE;\n",
              "      --fill-color: #1967D2;\n",
              "      --hover-bg-color: #E2EBFA;\n",
              "      --hover-fill-color: #174EA6;\n",
              "      --disabled-fill-color: #AAA;\n",
              "      --disabled-bg-color: #DDD;\n",
              "  }\n",
              "\n",
              "  [theme=dark] .colab-df-quickchart {\n",
              "      --bg-color: #3B4455;\n",
              "      --fill-color: #D2E3FC;\n",
              "      --hover-bg-color: #434B5C;\n",
              "      --hover-fill-color: #FFFFFF;\n",
              "      --disabled-bg-color: #3B4455;\n",
              "      --disabled-fill-color: #666;\n",
              "  }\n",
              "\n",
              "  .colab-df-quickchart {\n",
              "    background-color: var(--bg-color);\n",
              "    border: none;\n",
              "    border-radius: 50%;\n",
              "    cursor: pointer;\n",
              "    display: none;\n",
              "    fill: var(--fill-color);\n",
              "    height: 32px;\n",
              "    padding: 0;\n",
              "    width: 32px;\n",
              "  }\n",
              "\n",
              "  .colab-df-quickchart:hover {\n",
              "    background-color: var(--hover-bg-color);\n",
              "    box-shadow: 0 1px 2px rgba(60, 64, 67, 0.3), 0 1px 3px 1px rgba(60, 64, 67, 0.15);\n",
              "    fill: var(--button-hover-fill-color);\n",
              "  }\n",
              "\n",
              "  .colab-df-quickchart-complete:disabled,\n",
              "  .colab-df-quickchart-complete:disabled:hover {\n",
              "    background-color: var(--disabled-bg-color);\n",
              "    fill: var(--disabled-fill-color);\n",
              "    box-shadow: none;\n",
              "  }\n",
              "\n",
              "  .colab-df-spinner {\n",
              "    border: 2px solid var(--fill-color);\n",
              "    border-color: transparent;\n",
              "    border-bottom-color: var(--fill-color);\n",
              "    animation:\n",
              "      spin 1s steps(1) infinite;\n",
              "  }\n",
              "\n",
              "  @keyframes spin {\n",
              "    0% {\n",
              "      border-color: transparent;\n",
              "      border-bottom-color: var(--fill-color);\n",
              "      border-left-color: var(--fill-color);\n",
              "    }\n",
              "    20% {\n",
              "      border-color: transparent;\n",
              "      border-left-color: var(--fill-color);\n",
              "      border-top-color: var(--fill-color);\n",
              "    }\n",
              "    30% {\n",
              "      border-color: transparent;\n",
              "      border-left-color: var(--fill-color);\n",
              "      border-top-color: var(--fill-color);\n",
              "      border-right-color: var(--fill-color);\n",
              "    }\n",
              "    40% {\n",
              "      border-color: transparent;\n",
              "      border-right-color: var(--fill-color);\n",
              "      border-top-color: var(--fill-color);\n",
              "    }\n",
              "    60% {\n",
              "      border-color: transparent;\n",
              "      border-right-color: var(--fill-color);\n",
              "    }\n",
              "    80% {\n",
              "      border-color: transparent;\n",
              "      border-right-color: var(--fill-color);\n",
              "      border-bottom-color: var(--fill-color);\n",
              "    }\n",
              "    90% {\n",
              "      border-color: transparent;\n",
              "      border-bottom-color: var(--fill-color);\n",
              "    }\n",
              "  }\n",
              "</style>\n",
              "\n",
              "  <script>\n",
              "    async function quickchart(key) {\n",
              "      const quickchartButtonEl =\n",
              "        document.querySelector('#' + key + ' button');\n",
              "      quickchartButtonEl.disabled = true;  // To prevent multiple clicks.\n",
              "      quickchartButtonEl.classList.add('colab-df-spinner');\n",
              "      try {\n",
              "        const charts = await google.colab.kernel.invokeFunction(\n",
              "            'suggestCharts', [key], {});\n",
              "      } catch (error) {\n",
              "        console.error('Error during call to suggestCharts:', error);\n",
              "      }\n",
              "      quickchartButtonEl.classList.remove('colab-df-spinner');\n",
              "      quickchartButtonEl.classList.add('colab-df-quickchart-complete');\n",
              "    }\n",
              "    (() => {\n",
              "      let quickchartButtonEl =\n",
              "        document.querySelector('#df-c72459dd-f0b1-4a11-8b0b-583d680208ad button');\n",
              "      quickchartButtonEl.style.display =\n",
              "        google.colab.kernel.accessAllowed ? 'block' : 'none';\n",
              "    })();\n",
              "  </script>\n",
              "</div>\n",
              "    </div>\n",
              "  </div>\n"
            ]
          },
          "metadata": {},
          "execution_count": 15
        }
      ]
    },
    {
      "cell_type": "code",
      "source": [
        "df.to_csv('data_description.csv', index=False)"
      ],
      "metadata": {
        "id": "PT1NfieaO7zk"
      },
      "execution_count": 16,
      "outputs": []
    },
    {
      "cell_type": "markdown",
      "source": [],
      "metadata": {
        "id": "ewCrwCoWvhCD"
      }
    },
    {
      "cell_type": "code",
      "source": [],
      "metadata": {
        "id": "4KPaWA_2Qe85"
      },
      "execution_count": null,
      "outputs": []
    },
    {
      "cell_type": "markdown",
      "source": [
        "## Convert RTF to TXT"
      ],
      "metadata": {
        "id": "BjZjjh570yf2"
      }
    },
    {
      "cell_type": "code",
      "source": [
        "from striprtf.striprtf import rtf_to_text\n",
        "\n",
        "def convert_rtf_to_txt(directory):\n",
        "    files = os.listdir(directory)\n",
        "\n",
        "    for f in files:\n",
        "        if os.path.isfile(os.path.join(directory, f)):\n",
        "            filename, extension = os.path.splitext(f)\n",
        "\n",
        "        if extension.lower() == \".rtf\":\n",
        "            rtf_file = open(os.path.join(directory, f), \"r\")\n",
        "            rtf_content = rtf_file.read()\n",
        "            text = rtf_to_text(rtf_content)\n",
        "            rtf_file.close()\n",
        "\n",
        "            new_name = f\"{filename}.txt\"\n",
        "            txt_file = open(os.path.join(directory, new_name), \"w\")\n",
        "            txt_file.write(text)\n",
        "            txt_file.close()\n",
        "\n",
        "            os.remove(os.path.join(directory, f))\n",
        "\n",
        "\n",
        "for sub in subdirectories:\n",
        "  convert_rtf_to_txt(sub)"
      ],
      "metadata": {
        "id": "yly7Dq_otAVj"
      },
      "execution_count": 29,
      "outputs": []
    }
  ]
}