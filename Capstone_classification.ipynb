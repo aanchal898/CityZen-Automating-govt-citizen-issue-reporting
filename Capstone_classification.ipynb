{
  "nbformat": 4,
  "nbformat_minor": 0,
  "metadata": {
    "colab": {
      "provenance": []
    },
    "kernelspec": {
      "name": "python3",
      "display_name": "Python 3"
    },
    "language_info": {
      "name": "python"
    }
  },
  "cells": [
    {
      "cell_type": "code",
      "execution_count": 9,
      "metadata": {
        "id": "wQtQXAsZWkj-"
      },
      "outputs": [],
      "source": [
        "import zipfile\n",
        "import os\n",
        "\n",
        "# Upload your zip files (benign.zip and malign.zip) to Colab first\n",
        "\n",
        "# Unzipping\n",
        "with zipfile.ZipFile(\"benign.zip\", 'r') as zip_ref:\n",
        "    zip_ref.extractall(\"benign\")\n",
        "with zipfile.ZipFile(\"malign.zip\", 'r') as zip_ref:\n",
        "    zip_ref.extractall(\"malign\")\n"
      ]
    },
    {
      "cell_type": "code",
      "source": [
        "import os\n",
        "import csv\n",
        "\n",
        "# Define the directories for benign and malign email text files\n",
        "benign_dir = '/content/benign/benign'\n",
        "malign_dir = '/content/malign/malign'\n",
        "\n",
        "# Define the path for the new CSV file\n",
        "output_csv = 'emails.csv'\n",
        "\n",
        "# Define the headers for the CSV file\n",
        "headers = ['Subject', 'Body', 'Label']\n",
        "\n",
        "# Function to process a directory and write its contents to the CSV file\n",
        "def process_directory(directory, label, writer):\n",
        "    for filename in os.listdir(directory):\n",
        "        file_path = os.path.join(directory, filename)\n",
        "        if os.path.isfile(file_path):\n",
        "            with open(file_path, 'r', encoding='utf-8', errors='ignore') as file:\n",
        "                content = file.read()\n",
        "\n",
        "                # Split the content by lines and iterate through\n",
        "                lines = content.splitlines()\n",
        "                subject = \"\"\n",
        "                body = []\n",
        "                reading_body = False\n",
        "\n",
        "                for line in lines:\n",
        "                    if line.startswith('Subject:'):\n",
        "                        subject = line[len('Subject:'):].strip()\n",
        "                        reading_body = True\n",
        "                    elif reading_body:\n",
        "                        if line.startswith('Subject:'):\n",
        "                            body_text = \" \".join(body).strip()\n",
        "                            writer.writerow({'Subject': subject, 'Body': body_text, 'Label': label})\n",
        "                            subject = line[len('Subject:'):].strip()\n",
        "                            body = []\n",
        "                        else:\n",
        "                            body.append(line.strip())\n",
        "\n",
        "                if subject and body:\n",
        "                    body_text = \" \".join(body).strip()\n",
        "                    writer.writerow({'Subject': subject, 'Body': body_text, 'Label': label})\n",
        "\n",
        "# Open the CSV file for writing\n",
        "with open(output_csv, 'w', newline='', encoding='utf-8') as csvfile:\n",
        "    writer = csv.DictWriter(csvfile, fieldnames=headers)\n",
        "    writer.writeheader()\n",
        "\n",
        "    # Process each directory\n",
        "    process_directory(benign_dir, 'benign', writer)\n",
        "    process_directory(malign_dir, 'malign', writer)\n",
        "\n",
        "print(f\"CSV file created at: {output_csv}\")\n"
      ],
      "metadata": {
        "colab": {
          "base_uri": "https://localhost:8080/"
        },
        "id": "GlANQ-DEXc5e",
        "outputId": "4a2eb6b9-6aca-4e99-f659-6fbd7b27f14b"
      },
      "execution_count": 13,
      "outputs": [
        {
          "output_type": "stream",
          "name": "stdout",
          "text": [
            "CSV file created at: emails.csv\n"
          ]
        }
      ]
    },
    {
      "cell_type": "code",
      "source": [
        "import pandas as pd\n",
        "from sklearn.model_selection import train_test_split\n",
        "from tensorflow.keras.preprocessing.text import Tokenizer\n",
        "from tensorflow.keras.preprocessing.sequence import pad_sequences\n",
        "\n",
        "# Load the CSV file\n",
        "df = pd.read_csv('emails.csv')\n",
        "\n",
        "# Combine subject and body\n",
        "df['text'] = df['Subject'] + \" \" + df['Body']\n",
        "\n",
        "# Convert labels to binary (0 or 1)\n",
        "df['label'] = df['Label'].apply(lambda x: 1 if x == 'malign' else 0)\n",
        "\n",
        "# Split data into training and testing sets\n",
        "train_texts, test_texts, train_labels, test_labels = train_test_split(\n",
        "    df['text'], df['label'], test_size=0.2, random_state=42\n",
        ")\n",
        "\n",
        "# Tokenize and pad sequences\n",
        "tokenizer = Tokenizer(num_words=10000, oov_token=\"<OOV>\")\n",
        "tokenizer.fit_on_texts(train_texts)\n",
        "\n",
        "train_sequences = tokenizer.texts_to_sequences(train_texts)\n",
        "train_padded = pad_sequences(train_sequences, maxlen=200)\n",
        "\n",
        "test_sequences = tokenizer.texts_to_sequences(test_texts)\n",
        "test_padded = pad_sequences(test_sequences, maxlen=200)\n"
      ],
      "metadata": {
        "id": "NJE_HlvIjna9"
      },
      "execution_count": 14,
      "outputs": []
    },
    {
      "cell_type": "code",
      "source": [
        "import tensorflow as tf\n",
        "\n",
        "model = tf.keras.Sequential([\n",
        "    tf.keras.layers.Embedding(10000, 16, input_length=200),\n",
        "    tf.keras.layers.GlobalAveragePooling1D(),\n",
        "    tf.keras.layers.Dense(24, activation='relu'),\n",
        "    tf.keras.layers.Dense(1, activation='sigmoid')\n",
        "])\n",
        "\n",
        "model.compile(loss='binary_crossentropy', optimizer='adam', metrics=['accuracy'])\n",
        "\n",
        "# Train the model\n",
        "history = model.fit(\n",
        "    train_padded, train_labels,\n",
        "    epochs=10,\n",
        "    validation_data=(test_padded, test_labels)\n",
        ")\n"
      ],
      "metadata": {
        "colab": {
          "base_uri": "https://localhost:8080/"
        },
        "id": "d_dMDPcjjrKw",
        "outputId": "0f7058a2-3e71-4ccc-9ca0-c1cfddf793fd"
      },
      "execution_count": 15,
      "outputs": [
        {
          "output_type": "stream",
          "name": "stdout",
          "text": [
            "Epoch 1/10\n",
            "22/22 [==============================] - 2s 25ms/step - loss: 0.6894 - accuracy: 0.5661 - val_loss: 0.6841 - val_accuracy: 0.5503\n",
            "Epoch 2/10\n",
            "22/22 [==============================] - 0s 11ms/step - loss: 0.6779 - accuracy: 0.5795 - val_loss: 0.6719 - val_accuracy: 0.6864\n",
            "Epoch 3/10\n",
            "22/22 [==============================] - 0s 10ms/step - loss: 0.6618 - accuracy: 0.8915 - val_loss: 0.6535 - val_accuracy: 0.8935\n",
            "Epoch 4/10\n",
            "22/22 [==============================] - 0s 12ms/step - loss: 0.6377 - accuracy: 0.8841 - val_loss: 0.6256 - val_accuracy: 0.9231\n",
            "Epoch 5/10\n",
            "22/22 [==============================] - 0s 11ms/step - loss: 0.6012 - accuracy: 0.9480 - val_loss: 0.5845 - val_accuracy: 0.9408\n",
            "Epoch 6/10\n",
            "22/22 [==============================] - 0s 10ms/step - loss: 0.5509 - accuracy: 0.9376 - val_loss: 0.5301 - val_accuracy: 0.9467\n",
            "Epoch 7/10\n",
            "22/22 [==============================] - 0s 11ms/step - loss: 0.4905 - accuracy: 0.9569 - val_loss: 0.4695 - val_accuracy: 0.9467\n",
            "Epoch 8/10\n",
            "22/22 [==============================] - 0s 11ms/step - loss: 0.4244 - accuracy: 0.9391 - val_loss: 0.4057 - val_accuracy: 0.9645\n",
            "Epoch 9/10\n",
            "22/22 [==============================] - 0s 10ms/step - loss: 0.3636 - accuracy: 0.9688 - val_loss: 0.3521 - val_accuracy: 0.9704\n",
            "Epoch 10/10\n",
            "22/22 [==============================] - 0s 11ms/step - loss: 0.3041 - accuracy: 0.9658 - val_loss: 0.2979 - val_accuracy: 0.9704\n"
          ]
        }
      ]
    },
    {
      "cell_type": "code",
      "source": [
        "# Evaluate on test data\n",
        "results = model.evaluate(test_padded, test_labels, verbose=2)\n",
        "print(f\"Test Accuracy: {results[1] * 100:.2f}%\")"
      ],
      "metadata": {
        "colab": {
          "base_uri": "https://localhost:8080/"
        },
        "id": "3m8zcgaYjrNl",
        "outputId": "7f766202-60d2-4b10-ee2c-ac46c468abbe"
      },
      "execution_count": 16,
      "outputs": [
        {
          "output_type": "stream",
          "name": "stdout",
          "text": [
            "6/6 - 0s - loss: 0.2979 - accuracy: 0.9704 - 220ms/epoch - 37ms/step\n",
            "Test Accuracy: 97.04%\n"
          ]
        }
      ]
    }
  ]
}